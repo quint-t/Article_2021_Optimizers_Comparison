{
 "cells": [
  {
   "cell_type": "code",
   "execution_count": null,
   "id": "f5a2a60b-c017-4ba3-970e-5f3a0b7c772a",
   "metadata": {},
   "outputs": [],
   "source": [
    "import numpy as np\n",
    "from scipy.stats import t\n",
    "# (accuracy, val_accuracy)\n",
    "values = [(0.9954166412353516, 0.9927999973297119), (0.9956333041191101, 0.9930999875068665), (0.9958333373069763, 0.9927999973297119), (0.9955499768257141, 0.9923999905586243), (0.9953166842460632, 0.9922000169754028), (0.9954500198364258, 0.9923999905586243), (0.9955833554267883, 0.9922000169754028), (0.9956666827201843, 0.9922000169754028), (0.9953500032424927, 0.9922000169754028), (0.9956166744232178, 0.992900013923645)]\n",
    "\n",
    "alpha = 1 - 0.90"
   ]
  },
  {
   "cell_type": "code",
   "execution_count": null,
   "id": "780a9978-1617-4f47-8da7-ee58a022398b",
   "metadata": {},
   "outputs": [],
   "source": [
    "for v, col in zip(('accuracy', 'val_accuracy'), zip(*values)):\n",
    "    mean = np.mean(col)\n",
    "    t_star = t.ppf(1 - alpha / 2.0, len(col) - 1)\n",
    "    sigma = np.std(col, ddof=1)\n",
    "    t_star_s_sqrt = t_star * sigma / len(col) ** 0.5\n",
    "    print(f\"{v} {100 * mean:.3f} ± {100 * t_star_s_sqrt:.3f}%\")\n",
    "    print(f\"({100 * (mean - t_star_s_sqrt):.10f}, {100 * (mean + t_star_s_sqrt):.10f})\")"
   ]
  },
  {
   "cell_type": "code",
   "execution_count": null,
   "id": "d0f710af-6797-40ff-be0d-c8cf5e72340d",
   "metadata": {},
   "outputs": [],
   "source": []
  }
 ],
 "metadata": {
  "kernelspec": {
   "display_name": "Python 3",
   "language": "python",
   "name": "python3"
  },
  "language_info": {
   "codemirror_mode": {
    "name": "ipython",
    "version": 3
   },
   "file_extension": ".py",
   "mimetype": "text/x-python",
   "name": "python",
   "nbconvert_exporter": "python",
   "pygments_lexer": "ipython3",
   "version": "3.6.13"
  }
 },
 "nbformat": 4,
 "nbformat_minor": 5
}
